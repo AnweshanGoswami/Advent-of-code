{
 "cells": [
  {
   "cell_type": "code",
   "execution_count": 36,
   "metadata": {},
   "outputs": [],
   "source": [
    "input_file = open(\"input3.txt\",\"r\")\n",
    "content = input_file.read()\n",
    "input_list = content.split(\"\\n\")\n",
    "#print(input_list)\n",
    "#ox,co = \"\",\"\""
   ]
  },
  {
   "cell_type": "code",
   "execution_count": 47,
   "metadata": {},
   "outputs": [],
   "source": [
    "def life_support(input_list, col):\n",
    "    flag = True\n",
    "    ox,co = \"\",\"\"\n",
    "    input0,input1 = list(),list()\n",
    "    while(flag):\n",
    "        count0,count1 = 0,0\n",
    "        for i in range(len(input_list)):\n",
    "            if input_list[i][col] == \"0\":\n",
    "                count0 +=1\n",
    "                input0.append(input_list[i][col])\n",
    "            elif input_list[i][col] == \"1\":\n",
    "                count1 += 1\n",
    "                input1.append(input_list[i][col]) \n",
    "        if count0>count1:\n",
    "            life_support(input0,col+1)\n",
    "        elif count0<count1:\n",
    "            life_support(input1,col+1)\n",
    "        elif count0 == count1:\n",
    "            flag = False\n",
    "            if input0[col+1] == 1:\n",
    "                ox = input0\n",
    "                co = input1\n",
    "            elif input1[col+1] == 1:\n",
    "                ox = input1\n",
    "                co = input0\n",
    "    return(ox,co)"
   ]
  },
  {
   "cell_type": "code",
   "execution_count": 48,
   "metadata": {},
   "outputs": [
    {
     "ename": "IndexError",
     "evalue": "string index out of range",
     "output_type": "error",
     "traceback": [
      "\u001b[1;31m---------------------------------------------------------------------------\u001b[0m",
      "\u001b[1;31mIndexError\u001b[0m                                Traceback (most recent call last)",
      "\u001b[1;32m~\\AppData\\Local\\Temp/ipykernel_7412/2794609988.py\u001b[0m in \u001b[0;36m<module>\u001b[1;34m\u001b[0m\n\u001b[1;32m----> 1\u001b[1;33m \u001b[0mox\u001b[0m\u001b[1;33m,\u001b[0m\u001b[0mco\u001b[0m \u001b[1;33m=\u001b[0m \u001b[0mlife_support\u001b[0m\u001b[1;33m(\u001b[0m\u001b[0minput_list\u001b[0m\u001b[1;33m,\u001b[0m\u001b[1;36m0\u001b[0m\u001b[1;33m)\u001b[0m\u001b[1;33m\u001b[0m\u001b[1;33m\u001b[0m\u001b[0m\n\u001b[0m\u001b[0;32m      2\u001b[0m \u001b[0mprint\u001b[0m\u001b[1;33m(\u001b[0m\u001b[0mox\u001b[0m\u001b[1;33m,\u001b[0m\u001b[0mco\u001b[0m\u001b[1;33m)\u001b[0m\u001b[1;33m\u001b[0m\u001b[1;33m\u001b[0m\u001b[0m\n",
      "\u001b[1;32m~\\AppData\\Local\\Temp/ipykernel_7412/3395524730.py\u001b[0m in \u001b[0;36mlife_support\u001b[1;34m(input_list, col)\u001b[0m\n\u001b[0;32m     15\u001b[0m             \u001b[0mlife_support\u001b[0m\u001b[1;33m(\u001b[0m\u001b[0minput0\u001b[0m\u001b[1;33m,\u001b[0m\u001b[0mcol\u001b[0m\u001b[1;33m+\u001b[0m\u001b[1;36m1\u001b[0m\u001b[1;33m)\u001b[0m\u001b[1;33m\u001b[0m\u001b[1;33m\u001b[0m\u001b[0m\n\u001b[0;32m     16\u001b[0m         \u001b[1;32melif\u001b[0m \u001b[0mcount0\u001b[0m\u001b[1;33m<\u001b[0m\u001b[0mcount1\u001b[0m\u001b[1;33m:\u001b[0m\u001b[1;33m\u001b[0m\u001b[1;33m\u001b[0m\u001b[0m\n\u001b[1;32m---> 17\u001b[1;33m             \u001b[0mlife_support\u001b[0m\u001b[1;33m(\u001b[0m\u001b[0minput1\u001b[0m\u001b[1;33m,\u001b[0m\u001b[0mcol\u001b[0m\u001b[1;33m+\u001b[0m\u001b[1;36m1\u001b[0m\u001b[1;33m)\u001b[0m\u001b[1;33m\u001b[0m\u001b[1;33m\u001b[0m\u001b[0m\n\u001b[0m\u001b[0;32m     18\u001b[0m         \u001b[1;32melif\u001b[0m \u001b[0mcount0\u001b[0m \u001b[1;33m==\u001b[0m \u001b[0mcount1\u001b[0m\u001b[1;33m:\u001b[0m\u001b[1;33m\u001b[0m\u001b[1;33m\u001b[0m\u001b[0m\n\u001b[0;32m     19\u001b[0m             \u001b[0mflag\u001b[0m \u001b[1;33m=\u001b[0m \u001b[1;32mFalse\u001b[0m\u001b[1;33m\u001b[0m\u001b[1;33m\u001b[0m\u001b[0m\n",
      "\u001b[1;32m~\\AppData\\Local\\Temp/ipykernel_7412/3395524730.py\u001b[0m in \u001b[0;36mlife_support\u001b[1;34m(input_list, col)\u001b[0m\n\u001b[0;32m      6\u001b[0m         \u001b[0mcount0\u001b[0m\u001b[1;33m,\u001b[0m\u001b[0mcount1\u001b[0m \u001b[1;33m=\u001b[0m \u001b[1;36m0\u001b[0m\u001b[1;33m,\u001b[0m\u001b[1;36m0\u001b[0m\u001b[1;33m\u001b[0m\u001b[1;33m\u001b[0m\u001b[0m\n\u001b[0;32m      7\u001b[0m         \u001b[1;32mfor\u001b[0m \u001b[0mi\u001b[0m \u001b[1;32min\u001b[0m \u001b[0mrange\u001b[0m\u001b[1;33m(\u001b[0m\u001b[0mlen\u001b[0m\u001b[1;33m(\u001b[0m\u001b[0minput_list\u001b[0m\u001b[1;33m)\u001b[0m\u001b[1;33m)\u001b[0m\u001b[1;33m:\u001b[0m\u001b[1;33m\u001b[0m\u001b[1;33m\u001b[0m\u001b[0m\n\u001b[1;32m----> 8\u001b[1;33m             \u001b[1;32mif\u001b[0m \u001b[0minput_list\u001b[0m\u001b[1;33m[\u001b[0m\u001b[0mi\u001b[0m\u001b[1;33m]\u001b[0m\u001b[1;33m[\u001b[0m\u001b[0mcol\u001b[0m\u001b[1;33m]\u001b[0m \u001b[1;33m==\u001b[0m \u001b[1;34m\"0\"\u001b[0m\u001b[1;33m:\u001b[0m\u001b[1;33m\u001b[0m\u001b[1;33m\u001b[0m\u001b[0m\n\u001b[0m\u001b[0;32m      9\u001b[0m                 \u001b[0mcount0\u001b[0m \u001b[1;33m+=\u001b[0m\u001b[1;36m1\u001b[0m\u001b[1;33m\u001b[0m\u001b[1;33m\u001b[0m\u001b[0m\n\u001b[0;32m     10\u001b[0m                 \u001b[0minput0\u001b[0m\u001b[1;33m.\u001b[0m\u001b[0mappend\u001b[0m\u001b[1;33m(\u001b[0m\u001b[0minput_list\u001b[0m\u001b[1;33m[\u001b[0m\u001b[0mi\u001b[0m\u001b[1;33m]\u001b[0m\u001b[1;33m[\u001b[0m\u001b[0mcol\u001b[0m\u001b[1;33m]\u001b[0m\u001b[1;33m)\u001b[0m\u001b[1;33m\u001b[0m\u001b[1;33m\u001b[0m\u001b[0m\n",
      "\u001b[1;31mIndexError\u001b[0m: string index out of range"
     ]
    }
   ],
   "source": [
    "ox,co = life_support(input_list,0)\n",
    "print(ox,co)"
   ]
  },
  {
   "cell_type": "code",
   "execution_count": 38,
   "metadata": {},
   "outputs": [
    {
     "name": "stdout",
     "output_type": "stream",
     "text": [
      "508 492\n"
     ]
    }
   ],
   "source": [
    "col = 0\n",
    "count0,count1 = 0,0\n",
    "input0,input1 = list(),list()\n",
    "for i in range(len(input_list)):\n",
    "    if input_list[i][col] == \"1\":\n",
    "        count1 += 1\n",
    "        input1.append(input_list[i])\n",
    "    elif input_list[i][col] == \"0\":\n",
    "        count0 += 1\n",
    "        input0.append(input_list[i])\n",
    "print(count0,count1)\n",
    "if count0<count1:\n",
    "    input_list = input0\n",
    "elif count1<count0:\n",
    "    input_list = input1\n",
    "elif count0 == count1:\n",
    "    print(input0,input1)\n",
    "\n",
    "\n",
    "    "
   ]
  },
  {
   "cell_type": "code",
   "execution_count": 39,
   "metadata": {},
   "outputs": [
    {
     "name": "stdout",
     "output_type": "stream",
     "text": [
      "247 245\n"
     ]
    }
   ],
   "source": [
    "col = 1\n",
    "count0,count1 = 0,0\n",
    "input0,input1 = list(),list()\n",
    "for i in range(len(input_list)):\n",
    "    if input_list[i][col] == \"1\":\n",
    "        count1 += 1\n",
    "        input1.append(input_list[i])\n",
    "    elif input_list[i][col] == \"0\":\n",
    "        count0 += 1\n",
    "        input0.append(input_list[i])\n",
    "print(count0,count1)\n",
    "if count0<count1:\n",
    "    input_list = input0\n",
    "elif count1<count0:\n",
    "    input_list = input1\n",
    "elif count0 == count1:\n",
    "    print(input0,input1)\n"
   ]
  },
  {
   "cell_type": "code",
   "execution_count": 40,
   "metadata": {},
   "outputs": [
    {
     "name": "stdout",
     "output_type": "stream",
     "text": [
      "118 127\n"
     ]
    }
   ],
   "source": [
    "col = 2\n",
    "count0,count1 = 0,0\n",
    "input0,input1 = list(),list()\n",
    "for i in range(len(input_list)):\n",
    "    if input_list[i][col] == \"1\":\n",
    "        count1 += 1\n",
    "        input1.append(input_list[i])\n",
    "    elif input_list[i][col] == \"0\":\n",
    "        count0 += 1\n",
    "        input0.append(input_list[i])\n",
    "print(count0,count1)\n",
    "if count0<count1:\n",
    "    input_list = input0\n",
    "elif count1<count0:\n",
    "    input_list = input1\n",
    "elif count0 == count1:\n",
    "    print(input0,input1)\n"
   ]
  },
  {
   "cell_type": "code",
   "execution_count": 41,
   "metadata": {},
   "outputs": [
    {
     "name": "stdout",
     "output_type": "stream",
     "text": [
      "58 60\n"
     ]
    }
   ],
   "source": [
    "col = 3\n",
    "count0,count1 = 0,0\n",
    "input0,input1 = list(),list()\n",
    "for i in range(len(input_list)):\n",
    "    if input_list[i][col] == \"1\":\n",
    "        count1 += 1\n",
    "        input1.append(input_list[i])\n",
    "    elif input_list[i][col] == \"0\":\n",
    "        count0 += 1\n",
    "        input0.append(input_list[i])\n",
    "print(count0,count1)\n",
    "if count0<count1:\n",
    "    input_list = input0\n",
    "elif count1<count0:\n",
    "    input_list = input1\n",
    "elif count0 == count1:\n",
    "    print(input0,input1)\n",
    "\n"
   ]
  },
  {
   "cell_type": "code",
   "execution_count": 42,
   "metadata": {},
   "outputs": [
    {
     "name": "stdout",
     "output_type": "stream",
     "text": [
      "31 27\n"
     ]
    }
   ],
   "source": [
    "col = 4\n",
    "count0,count1 = 0,0\n",
    "input0,input1 = list(),list()\n",
    "for i in range(len(input_list)):\n",
    "    if input_list[i][col] == \"1\":\n",
    "        count1 += 1\n",
    "        input1.append(input_list[i])\n",
    "    elif input_list[i][col] == \"0\":\n",
    "        count0 += 1\n",
    "        input0.append(input_list[i])\n",
    "print(count0,count1)\n",
    "if count0<count1:\n",
    "    input_list = input0\n",
    "elif count1<count0:\n",
    "    input_list = input1\n",
    "elif count0 == count1:\n",
    "    print(input0,input1)\n"
   ]
  },
  {
   "cell_type": "code",
   "execution_count": 43,
   "metadata": {},
   "outputs": [
    {
     "name": "stdout",
     "output_type": "stream",
     "text": [
      "14 13\n"
     ]
    }
   ],
   "source": [
    "col = 5\n",
    "count0,count1 = 0,0\n",
    "input0,input1 = list(),list()\n",
    "for i in range(len(input_list)):\n",
    "    if input_list[i][col] == \"1\":\n",
    "        count1 += 1\n",
    "        input1.append(input_list[i])\n",
    "    elif input_list[i][col] == \"0\":\n",
    "        count0 += 1\n",
    "        input0.append(input_list[i])\n",
    "print(count0,count1)\n",
    "if count0<count1:\n",
    "    input_list = input0\n",
    "elif count1<count0:\n",
    "    input_list = input1\n",
    "elif count0 == count1:\n",
    "    print(input0,input1)\n",
    "\n"
   ]
  },
  {
   "cell_type": "code",
   "execution_count": 44,
   "metadata": {},
   "outputs": [
    {
     "name": "stdout",
     "output_type": "stream",
     "text": [
      "6 7\n"
     ]
    }
   ],
   "source": [
    "col = 6\n",
    "count0,count1 = 0,0\n",
    "input0,input1 = list(),list()\n",
    "for i in range(len(input_list)):\n",
    "    if input_list[i][col] == \"1\":\n",
    "        count1 += 1\n",
    "        input1.append(input_list[i])\n",
    "    elif input_list[i][col] == \"0\":\n",
    "        count0 += 1\n",
    "        input0.append(input_list[i])\n",
    "print(count0,count1)\n",
    "if count0<count1:\n",
    "    input_list = input0\n",
    "elif count1<count0:\n",
    "    input_list = input1\n",
    "elif count0 == count1:\n",
    "    print(input0,input1)\n",
    "\n"
   ]
  },
  {
   "cell_type": "code",
   "execution_count": 45,
   "metadata": {},
   "outputs": [
    {
     "name": "stdout",
     "output_type": "stream",
     "text": [
      "2 4\n"
     ]
    }
   ],
   "source": [
    "col = 7\n",
    "count0,count1 = 0,0\n",
    "input0,input1 = list(),list()\n",
    "for i in range(len(input_list)):\n",
    "    if input_list[i][col] == \"1\":\n",
    "        count1 += 1\n",
    "        input1.append(input_list[i])\n",
    "    elif input_list[i][col] == \"0\":\n",
    "        count0 += 1\n",
    "        input0.append(input_list[i])\n",
    "print(count0,count1)\n",
    "if count0<count1:\n",
    "    input_list = input0\n",
    "elif count1<count0:\n",
    "    input_list = input1\n",
    "elif count0 == count1:\n",
    "    print(input0,input1)\n",
    "\n"
   ]
  },
  {
   "cell_type": "code",
   "execution_count": 46,
   "metadata": {},
   "outputs": [
    {
     "name": "stdout",
     "output_type": "stream",
     "text": [
      "1 1\n",
      "['110011000000'] ['110011001001']\n"
     ]
    }
   ],
   "source": [
    "col = 8\n",
    "count0,count1 = 0,0\n",
    "input0,input1 = list(),list()\n",
    "for i in range(len(input_list)):\n",
    "    if input_list[i][col] == \"1\":\n",
    "        count1 += 1\n",
    "        input1.append(input_list[i])\n",
    "    elif input_list[i][col] == \"0\":\n",
    "        count0 += 1\n",
    "        input0.append(input_list[i])\n",
    "print(count0,count1)\n",
    "if count0<count1:\n",
    "    input_list = input0\n",
    "elif count1<count0:\n",
    "    input_list = input1\n",
    "elif count0 == count1:\n",
    "    print(input0,input1)\n"
   ]
  },
  {
   "cell_type": "code",
   "execution_count": 23,
   "metadata": {},
   "outputs": [
    {
     "name": "stdout",
     "output_type": "stream",
     "text": [
      "3 1\n"
     ]
    }
   ],
   "source": [
    "col = 9\n",
    "count0,count1 = 0,0\n",
    "input0,input1 = list(),list()\n",
    "for i in range(len(input_list)):\n",
    "    if input_list[i][col] == \"1\":\n",
    "        count1 += 1\n",
    "        input1.append(input_list[i])\n",
    "    elif input_list[i][col] == \"0\":\n",
    "        count0 += 1\n",
    "        input0.append(input_list[i])\n",
    "print(count0,count1)\n",
    "if count0>count1:\n",
    "    input_list = input0\n",
    "elif count1>count0:\n",
    "    input_list = input1\n",
    "elif count0 == count1:\n",
    "    print(input0,input1)\n"
   ]
  },
  {
   "cell_type": "code",
   "execution_count": 24,
   "metadata": {},
   "outputs": [
    {
     "name": "stdout",
     "output_type": "stream",
     "text": [
      "1 2\n"
     ]
    }
   ],
   "source": [
    "col = 10\n",
    "count0,count1 = 0,0\n",
    "input0,input1 = list(),list()\n",
    "for i in range(len(input_list)):\n",
    "    if input_list[i][col] == \"1\":\n",
    "        count1 += 1\n",
    "        input1.append(input_list[i])\n",
    "    elif input_list[i][col] == \"0\":\n",
    "        count0 += 1\n",
    "        input0.append(input_list[i])\n",
    "print(count0,count1)\n",
    "if count0>count1:\n",
    "    input_list = input0\n",
    "elif count1>count0:\n",
    "    input_list = input1\n",
    "elif count0 == count1:\n",
    "    print(input0,input1)\n"
   ]
  },
  {
   "cell_type": "code",
   "execution_count": 25,
   "metadata": {},
   "outputs": [
    {
     "name": "stdout",
     "output_type": "stream",
     "text": [
      "1 1\n",
      "['010101011010'] ['010101011011']\n"
     ]
    }
   ],
   "source": [
    "col = 11\n",
    "count0,count1 = 0,0\n",
    "input0,input1 = list(),list()\n",
    "for i in range(len(input_list)):\n",
    "    if input_list[i][col] == \"1\":\n",
    "        count1 += 1\n",
    "        input1.append(input_list[i])\n",
    "    elif input_list[i][col] == \"0\":\n",
    "        count0 += 1\n",
    "        input0.append(input_list[i])\n",
    "print(count0,count1)\n",
    "if count0<count1:\n",
    "    input_list = input0\n",
    "elif count1<count0:\n",
    "    input_list = input1\n",
    "elif count0 == count1:\n",
    "    print(input0,input1)\n"
   ]
  },
  {
   "cell_type": "code",
   "execution_count": null,
   "metadata": {},
   "outputs": [],
   "source": []
  }
 ],
 "metadata": {
  "interpreter": {
   "hash": "a9e07d9c7114714814dde511de02846c2528fd0e5235b228d7fe89267f34beb2"
  },
  "kernelspec": {
   "display_name": "Python 3.9.7 64-bit",
   "language": "python",
   "name": "python3"
  },
  "language_info": {
   "codemirror_mode": {
    "name": "ipython",
    "version": 3
   },
   "file_extension": ".py",
   "mimetype": "text/x-python",
   "name": "python",
   "nbconvert_exporter": "python",
   "pygments_lexer": "ipython3",
   "version": "3.9.7"
  },
  "orig_nbformat": 4
 },
 "nbformat": 4,
 "nbformat_minor": 2
}
