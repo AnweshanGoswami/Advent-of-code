{
 "cells": [
  {
   "cell_type": "markdown",
   "metadata": {},
   "source": [
    "##### Overall Plan\n",
    "1. I'll create 2 matrices for each board. One will have the number son the board, and the other one will have empty zeroes in all the squares.\n",
    "2. When we get a number on a board, we'll we'll change the corresponding sqaure in it's other board to 1.\n",
    "3. After each round, we'll find the sum of each row and column to see if somebody wins. "
   ]
  },
  {
   "cell_type": "markdown",
   "metadata": {},
   "source": [
    "1. Two boards - bingo board and check board\n",
    "2. "
   ]
  },
  {
   "cell_type": "code",
   "execution_count": 11,
   "metadata": {},
   "outputs": [],
   "source": [
    "import numpy as np"
   ]
  },
  {
   "cell_type": "code",
   "execution_count": 86,
   "metadata": {},
   "outputs": [],
   "source": [
    "def create_matrix(n):\n",
    "    matrixa = {}\n",
    "    for i in range(n):\n",
    "        matrixa[i] = [] \n",
    "    matrixb = np.zeros((n,n))\n",
    "    return matrixa,matrixb"
   ]
  },
  {
   "cell_type": "code",
   "execution_count": 153,
   "metadata": {},
   "outputs": [
    {
     "name": "stdout",
     "output_type": "stream",
     "text": [
      "{0: [], 1: [], 2: [], 3: [], 4: []}\n"
     ]
    }
   ],
   "source": [
    "board = {}\n",
    "for i in range(len(file)):\n",
    "    board[i] = {}\n",
    "    board[i] = create_matrix(5)\n",
    "print(board[0][0])\n",
    "#print(board[0][1])"
   ]
  },
  {
   "cell_type": "code",
   "execution_count": 136,
   "metadata": {},
   "outputs": [
    {
     "data": {
      "text/plain": [
       "74"
      ]
     },
     "execution_count": 136,
     "metadata": {},
     "output_type": "execute_result"
    }
   ],
   "source": [
    "len(file[0])"
   ]
  },
  {
   "cell_type": "code",
   "execution_count": 90,
   "metadata": {},
   "outputs": [
    {
     "name": "stdout",
     "output_type": "stream",
     "text": [
      "['97 62 17  5 79', ' 1 99 98 80 84', '44 16  2 40 94', '68 95 49 32  8', '38 35 23 89  3']\n"
     ]
    }
   ],
   "source": [
    "print(file[0].split(\"\\n\"))"
   ]
  },
  {
   "cell_type": "code",
   "execution_count": null,
   "metadata": {},
   "outputs": [],
   "source": [
    "for i in range(len(file)):\n",
    "    for j in range(len(file[i]))\n",
    "    board[i][0][j][k]"
   ]
  },
  {
   "cell_type": "code",
   "execution_count": 127,
   "metadata": {},
   "outputs": [],
   "source": [
    "input_file = open(\"Input4.txt\",\"r\")\n",
    "content = input_file.read()\n",
    "\n",
    "file = content.split(\"\\n\\n\") # Sepearting each section\n",
    "bingo_in = file[0] # first line is the bingo inputs\n",
    "file = file[1:] # rest of the file are the different bingo boards\n"
   ]
  },
  {
   "cell_type": "code",
   "execution_count": 128,
   "metadata": {},
   "outputs": [],
   "source": [
    "bingo_in = bingo_in.split(\",\")\n",
    "for i in range(len(bingo_in)):\n",
    "    x = bingo_in[i]\n",
    "    bingo_in[i] = int(x)"
   ]
  },
  {
   "cell_type": "code",
   "execution_count": 169,
   "metadata": {},
   "outputs": [
    {
     "name": "stdout",
     "output_type": "stream",
     "text": [
      "97 62 17  5 79\n",
      "5\n"
     ]
    }
   ],
   "source": [
    "print(file[0].split(\"\\n\")[0])\n",
    "print(int(file[0].split(\"\\n\")[0].replace(\"  \", \" \").split(\" \")[3]))"
   ]
  },
  {
   "cell_type": "code",
   "execution_count": null,
   "metadata": {},
   "outputs": [],
   "source": []
  }
 ],
 "metadata": {
  "interpreter": {
   "hash": "a9e07d9c7114714814dde511de02846c2528fd0e5235b228d7fe89267f34beb2"
  },
  "kernelspec": {
   "display_name": "Python 3.9.7 64-bit",
   "language": "python",
   "name": "python3"
  },
  "language_info": {
   "codemirror_mode": {
    "name": "ipython",
    "version": 3
   },
   "file_extension": ".py",
   "mimetype": "text/x-python",
   "name": "python",
   "nbconvert_exporter": "python",
   "pygments_lexer": "ipython3",
   "version": "3.9.7"
  },
  "orig_nbformat": 4
 },
 "nbformat": 4,
 "nbformat_minor": 2
}
