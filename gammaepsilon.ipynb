{
 "cells": [
  {
   "cell_type": "code",
   "execution_count": 2,
   "metadata": {},
   "outputs": [],
   "source": [
    "input_file = open(\"input3.txt\",\"r\")\n",
    "content = input_file.read()\n",
    "input_list = content.split(\"\\n\")\n",
    "#print(input_list)"
   ]
  },
  {
   "cell_type": "code",
   "execution_count": 2,
   "metadata": {},
   "outputs": [
    {
     "name": "stdout",
     "output_type": "stream",
     "text": [
      "12\n",
      "1000\n"
     ]
    }
   ],
   "source": [
    "# How many bits are there in each number?\n",
    "print(len(input_list[0]))\n",
    "# How many total numbers are there?\n",
    "print(len(input_list))"
   ]
  },
  {
   "cell_type": "code",
   "execution_count": 6,
   "metadata": {},
   "outputs": [
    {
     "name": "stdout",
     "output_type": "stream",
     "text": [
      "011101111100 100010000011\n"
     ]
    }
   ],
   "source": [
    "count0,count1 =0,0\n",
    "gamma,epsilon = \"\",\"\"\n",
    "for j in range(len(input_list[0])):\n",
    "    #print(j)\n",
    "    count0,count1 =0,0 # remember to put counts inside, because they need to be reset\n",
    "    for i in range(len(input_list)):\n",
    "        if input_list[i][j] == \"0\":\n",
    "            count0 += 1\n",
    "        elif input_list[i][j] == \"1\":\n",
    "            count1 += 1\n",
    "    if count0>count1:\n",
    "        gamma = gamma + \"0\"\n",
    "        epsilon = epsilon + \"1\"\n",
    "    elif count0<count1:\n",
    "        gamma = gamma + \"1\"\n",
    "        epsilon = epsilon + \"0\"\n",
    "print(gamma,epsilon)\n"
   ]
  },
  {
   "cell_type": "code",
   "execution_count": null,
   "metadata": {},
   "outputs": [],
   "source": []
  }
 ],
 "metadata": {
  "interpreter": {
   "hash": "a9e07d9c7114714814dde511de02846c2528fd0e5235b228d7fe89267f34beb2"
  },
  "kernelspec": {
   "display_name": "Python 3.9.7 64-bit",
   "language": "python",
   "name": "python3"
  },
  "language_info": {
   "codemirror_mode": {
    "name": "ipython",
    "version": 3
   },
   "file_extension": ".py",
   "mimetype": "text/x-python",
   "name": "python",
   "nbconvert_exporter": "python",
   "pygments_lexer": "ipython3",
   "version": "3.9.7"
  },
  "orig_nbformat": 4
 },
 "nbformat": 4,
 "nbformat_minor": 2
}
